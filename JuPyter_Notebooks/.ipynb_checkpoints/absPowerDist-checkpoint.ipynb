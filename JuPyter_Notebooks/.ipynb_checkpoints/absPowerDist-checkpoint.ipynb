{
 "cells": [
  {
   "cell_type": "code",
   "execution_count": 8,
   "metadata": {},
   "outputs": [],
   "source": [
    "import sys\n",
    "sys.path.append(\"/users/PAS0654/osu8354/root6_14_build/lib\") # go to parent dir\n",
    "sys.path.append(\"/users/PCON0003/cond0068/.local/lib/python2.7/site-packages\")\n",
    "import ROOT\n",
    "import math\n",
    "import numpy as np\n",
    "from ROOT import TH1D,TF1, gRandom, gPad, gStyle\n",
    "import matplotlib.pyplot as plt\n",
    "from ROOT import TChain, TSelector, TTree\n",
    "from ROOT import TCanvas, TPad, TFile, TPaveLabel, TPaveText\n",
    "from ROOT import gROOT\n",
    "import os\n",
    "import matplotlib.pyplot as plt\n"
   ]
  },
  {
   "cell_type": "code",
   "execution_count": 47,
   "metadata": {},
   "outputs": [
    {
     "name": "stdout",
     "output_type": "stream",
     "text": [
      "ch1/c1\n",
      "ch1/c2\n",
      "ch1/c3\n",
      "ch1/c4\n",
      "ch1/c5\n"
     ]
    }
   ],
   "source": [
    "import pickle\n",
    "%matplotlib inline\n",
    "# config=1\n",
    "for config in range(1,6):\n",
    "    print((\"ch{0}/c%i\"% config).format(1))"
   ]
  },
  {
   "cell_type": "code",
   "execution_count": 44,
   "metadata": {},
   "outputs": [],
   "source": [
    "with open('../python_scripts/files/absPower_A3_c%i.pickle' % config, 'rb') as handle:\n",
    "    colnames = pickle.load(handle)\n"
   ]
  },
  {
   "cell_type": "code",
   "execution_count": 41,
   "metadata": {},
   "outputs": [
    {
     "data": {
      "image/png": "[encoded data removed]",
      "text/plain": [
       "<Figure size 432x288 with 8 Axes>"
      ]
     },
     "metadata": {},
     "output_type": "display_data"
    }
   ],
   "source": [
    "for config in range(1,6):\n",
    "\n",
    "    with open('../python_scripts/files/absPower_A3_c%i.pickle' % config, 'rb') as handle:\n",
    "        colnames = pickle.load(handle)\n",
    "\n",
    "    fig = plt.figure()\n",
    "\n",
    "    for i in range(0,8):\n",
    "        ax = fig.add_subplot(2,4,i+1)\n",
    "        ax.hist(colnames[\"rms_ch{0}\".format(i)],bins=1000)\n",
    "        ax.set_xlim(1e2,1e5)\n",
    "        ax.set_ylim(1,1e7)\n",
    "        ax.set_xscale('log')\n",
    "        ax.set_yscale('log')\n",
    "        ax.set_xlabel('Power below 150 MHz [arb]', fontsize=5)\n",
    "        ax.axvline(np.array(colnames[\"rms_ch{0}\".format(i)]).mean(), color='red', linestyle='dashed', linewidth=1.5)\n",
    "        min_ylim, max_ylim = ax.set_ylim()\n",
    "        ax.text(np.array(colnames[\"rms_ch{0}\".format(i)]).mean()*1.3, max_ylim*0.5, 'Mean: {:.2e}'.format(np.array(colnames[\"rms_ch{0}\".format(i)]).mean()),fontsize=5)\n",
    "        ax.set_title((\"ch{0}/c%i\"% config).format(i),fontsize=8)\n",
    "    #     ax.colorbar(ax=ax)\n",
    "\n",
    "    for ax in fig.get_axes():\n",
    "        ax.label_outer()\n",
    "    # plt.tight_layout()\n",
    "\n",
    "    # fig.title(\"A3/c1\")\n",
    "    plt.savefig(\"/users/PCON0003/cond0068/ARA/abspower_dist_A3_c%i_1.png\" % config, dpi=200)\n",
    "\n",
    "    fig = plt.figure()\n",
    "\n",
    "    for i in range(8,16):\n",
    "        ax = fig.add_subplot(2,4,i-7)\n",
    "        ax.hist(colnames[\"rms_ch{0}\".format(i)],bins=1000)\n",
    "        ax.set_xlim(1e2,1e5)\n",
    "        ax.set_ylim(1,1e7)\n",
    "        ax.set_xscale('log')\n",
    "        ax.set_yscale('log')\n",
    "        ax.set_xlabel('Power below 150 MHz [arb]', fontsize=5)\n",
    "        ax.axvline(np.array(colnames[\"rms_ch{0}\".format(i)]).mean(), color='red', linestyle='dashed', linewidth=1.5)\n",
    "        min_ylim, max_ylim = ax.set_ylim()\n",
    "        ax.text(np.array(colnames[\"rms_ch{0}\".format(i)]).mean()*1.3, max_ylim*0.5, 'Mean: {:.2e}'.format(np.array(colnames[\"rms_ch{0}\".format(i)]).mean()),fontsize=5)\n",
    "        ax.set_title((\"ch{0}/c%i\"% config).format(i),fontsize=8)\n",
    "    #     ax.colorbar(ax=ax)\n",
    "\n",
    "    for ax in fig.get_axes():\n",
    "        ax.label_outer()\n",
    "    # plt.tight_layout()\n",
    "\n",
    "    # fig.title(\"A3/c1\")\n",
    "    plt.savefig(\"/users/PCON0003/cond0068/ARA/abspower_dist_A3_c%i_2.png\" % config, dpi=200)"
   ]
  },
  {
   "cell_type": "code",
   "execution_count": null,
   "metadata": {},
   "outputs": [],
   "source": []
  },
  {
   "cell_type": "code",
   "execution_count": null,
   "metadata": {},
   "outputs": [],
   "source": []
  }
 ],
 "metadata": {
  "kernelspec": {
   "display_name": "Python 3.6 (Conda 5.2) [python/3.6-conda5.2]",
   "language": "python",
   "name": "sys_python36conda"
  },
  "language_info": {
   "codemirror_mode": {
    "name": "ipython",
    "version": 3
   },
   "file_extension": ".py",
   "mimetype": "text/x-python",
   "name": "python",
   "nbconvert_exporter": "python",
   "pygments_lexer": "ipython3",
   "version": "3.6.6"
  }
 },
 "nbformat": 4,
 "nbformat_minor": 2
}
