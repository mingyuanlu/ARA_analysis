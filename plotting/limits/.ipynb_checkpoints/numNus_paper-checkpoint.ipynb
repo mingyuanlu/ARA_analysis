{
 "cells": [
  {
   "cell_type": "code",
   "execution_count": 1,
   "metadata": {},
   "outputs": [],
   "source": [
    "import neutrino_plots\n",
    "from limits_paper import LimitFigure, ara_energies, ara_available, ara_projected, count_neutrinos\n",
    "import numpy as np\n",
    "import matplotlib.pyplot as plt\n",
    "import importlib\n",
    "import limits_paper\n",
    "importlib.reload(limits_paper)\n",
    "\n",
    "ara_energies = np.array([1.00000000e+07, 3.16227766e+07, 1.00000000e+08, 3.16227766e+08, 1.00000000e+09,\n",
    "       3.16227766e+09, 1.00000000e+10, 3.16227766e+10, 1.00000000e+11, 3.16227766e+11, 1.00000000e+12])\n",
    "# eff = np.array([3.03, 2.64, 2.64, 2.45, 2.52, 2.45, 2.47, 2.46, 2.44, 2.46, 2.44])"
   ]
  },
  {
   "cell_type": "code",
   "execution_count": 25,
   "metadata": {},
   "outputs": [],
   "source": [
    "fluxes = {\n",
    "    #    \"IceCube $E^{-2.19}$ Extrapolated\": lambda e: LimitFigure._i3_nu_fit(e, slope=-2.19, offset=1.01),\n",
    "        \"100% protons, Ahlers & Halzen\": neutrino_plots.ahlers_100_flux\n",
    "    }\n",
    "\n",
    "styles = {\n",
    "#     \"SFR $E_{max}=10^{21.5}$, Kotera et al.\": \"deeppink.--\",\n",
    "#     \"SFR $E_{max}=10^{20.5}$, Kotera et al.\": \"darkmagenta.--\",\n",
    "#     \"IceCube $E^{-2.19}$ Extrapolated\": \"dodgerblue.-\",\n",
    "}\n",
    "\n"
   ]
  },
  {
   "cell_type": "code",
   "execution_count": 26,
   "metadata": {},
   "outputs": [],
   "source": [
    "veffs = ara_energies"
   ]
  },
  {
   "cell_type": "code",
   "execution_count": 27,
   "metadata": {},
   "outputs": [],
   "source": [
    "for flux in fluxes:\n",
    "#         detections[flux] = [0]\n",
    "#         for i, year in enumerate(years[1:]):\n",
    "            nus = count_neutrinos(fluxes[flux], stations=1, years=1) * 1e4\n",
    "#             detections[flux].append(np.sum(nus))"
   ]
  },
  {
   "cell_type": "code",
   "execution_count": 28,
   "metadata": {},
   "outputs": [
    {
     "data": {
      "text/plain": [
       "array([4.52931764e-06, 2.76767393e-04, 5.51450698e-03, 4.81115400e-02,\n",
       "       1.33822677e-01, 1.45516364e-01, 7.72685318e-02, 1.65793058e-02,\n",
       "       1.19370952e-03, 5.86478823e-04, 5.20384540e-05])"
      ]
     },
     "execution_count": 28,
     "metadata": {},
     "output_type": "execute_result"
    }
   ],
   "source": [
    "count_neutrinos(fluxes[flux], stations=2, years=4)"
   ]
  },
  {
   "cell_type": "code",
   "execution_count": 29,
   "metadata": {},
   "outputs": [
    {
     "data": {
      "text/plain": [
       "0.214463224380349"
      ]
     },
     "execution_count": 29,
     "metadata": {},
     "output_type": "execute_result"
    }
   ],
   "source": [
    "sum(count_neutrinos(fluxes[flux], stations=2, years=2))"
   ]
  },
  {
   "cell_type": "code",
   "execution_count": null,
   "metadata": {},
   "outputs": [],
   "source": []
  },
  {
   "cell_type": "code",
   "execution_count": null,
   "metadata": {},
   "outputs": [],
   "source": []
  }
 ],
 "metadata": {
  "kernelspec": {
   "display_name": "Python 3.6 (Conda 5.2) [python/3.6-conda5.2]",
   "language": "python",
   "name": "sys_python36conda"
  },
  "language_info": {
   "codemirror_mode": {
    "name": "ipython",
    "version": 3
   },
   "file_extension": ".py",
   "mimetype": "text/x-python",
   "name": "python",
   "nbconvert_exporter": "python",
   "pygments_lexer": "ipython3",
   "version": "3.6.6"
  }
 },
 "nbformat": 4,
 "nbformat_minor": 2
}
