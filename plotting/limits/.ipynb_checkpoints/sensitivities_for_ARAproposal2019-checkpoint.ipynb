{
 "cells": [
  {
   "cell_type": "code",
   "execution_count": 4,
   "metadata": {},
   "outputs": [
    {
     "data": {
      "text/plain": [
       "<module 'limits' from '/users/PCON0003/cond0068/ARA/AraRoot/analysis/ARA_analysis/plotting/limits/limits.py'>"
      ]
     },
     "execution_count": 4,
     "metadata": {},
     "output_type": "execute_result"
    }
   ],
   "source": [
    "from limits import LimitFigure, ara_energies, ara_available, ara_projected\n",
    "import importlib\n",
    "import limits\n",
    "importlib.reload(limits)\n"
   ]
  },
  {
   "cell_type": "code",
   "execution_count": 9,
   "metadata": {},
   "outputs": [
    {
     "ename": "IndentationError",
     "evalue": "unexpected indent (<ipython-input-9-4e766d508d20>, line 14)",
     "output_type": "error",
     "traceback": [
      "\u001b[0;36m  File \u001b[0;32m\"<ipython-input-9-4e766d508d20>\"\u001b[0;36m, line \u001b[0;32m14\u001b[0m\n\u001b[0;31m    stations=2.44, years=1, color='black', linestyle=None,\u001b[0m\n\u001b[0m    ^\u001b[0m\n\u001b[0;31mIndentationError\u001b[0m\u001b[0;31m:\u001b[0m unexpected indent\n"
     ]
    }
   ],
   "source": [
    "figure = LimitFigure(e_power=1, xlims=(1e6, 1e11), ylims=(1e-20, 2e-14), font_size=16, tick_size=14)\n",
    "figure.build_base_plot('ara',models = None)#['ahlers_1','ahlers_100','batista','batista_low_z','van_vliet2019', 'van_vliet2019_Elow', 'wittkowski_off','wittkowski','van_vliet2019_hard','van_vliet2019_soft','diagonal','kotera_FRII','vanvliet19_highE_hard','kotera'])\n",
    "figure.add_limit('ARA', ara_energies, ara_available*0.9,\n",
    "                stations=2.44, years=1, color='black', linestyle=None,\n",
    "                label='Available Data (2012-2020)')\n",
    "figure.add_limit('ARA', ara_energies, ara_projected*0.9,\n",
    "                stations=2.44, years=1, color='black', linestyle='--',\n",
    "                label='Projected Data (2012-2023)')\n",
    "figure.show(legend_size=9, save_name='e1_sensitivity_plot_ara2019.pdf')\n",
    "\n",
    "figure = LimitFigure(e_power=1, xlims=(1e6, 1e11), ylims=(1e-19, 2e-14), font_size=16, tick_size=14)\n",
    "figure.build_base_plot('ara_src')\n",
    "# figure.add_limit('ARA', ara_energies, ara_available*0.9,\n",
    "#                 stations=2.44, years=1, color='black', linestyle=None,\n",
    "#                 label='Available Data (2012-2020)')\n",
    "# figure.add_limit('ARA', ara_energies, ara_projected*0.9,\n",
    "#                 stations=2.44, years=1, color='black', linestyle='--',\n",
    "#                 label='Projected Data (2012-2023)')\n",
    "# figure.title(\"Trigger Level Sensitivities\")\n",
    "# figure.show(legend_size=8, save_name='e1_source_plot_ara2019.pdf')"
   ]
  },
  {
   "cell_type": "markdown",
   "metadata": {},
   "source": [
    "  # Neutrinos per year  "
   ]
  },
  {
   "cell_type": "code",
   "execution_count": null,
   "metadata": {},
   "outputs": [],
   "source": [
    "import neutrino_plots\n",
    "from limits import (LimitFigure, count_neutrinos, ara_energies,\n",
    "                    ara_100m, ara_200m, ara_200mpa)\n",
    "\n",
    "fluxes = {\n",
    "        \"SFR $E_{max}=10^{21.5}$, Kotera et al.\": neutrino_plots.kotera_high_e_flux,\n",
    "        \"SFR $E_{max}=10^{20.5}$, Kotera et al.\": neutrino_plots.kotera_sfr_flux,\n",
    "        \"IceCube $E^{-2.19}$ Extrapolated\": lambda e: LimitFigure._i3_nu_fit(e, slope=-2.19, offset=1.01),\n",
    "        \"100% protons, Ahlers & Halzen\": neutrino_plots.ahlers_100_flux,\n",
    "        \"10% protons, Ahlers & Halzen\": neutrino_plots.ahlers_10_flux,\n",
    "        \"1% protons, Ahlers & Halzen\": neutrino_plots.ahlers_1_flux,\n",
    "    }\n",
    "\n",
    "styles = {\n",
    "    \"SFR $E_{max}=10^{21.5}$, Kotera et al.\": \"deeppink.--\",\n",
    "    \"SFR $E_{max}=10^{20.5}$, Kotera et al.\": \"darkmagenta.--\",\n",
    "    \"IceCube $E^{-2.19}$ Extrapolated\": \"dodgerblue.-\",\n",
    "    \"100% protons, Ahlers & Halzen\": \"mediumblue.-.\",\n",
    "    \"10% protons, Ahlers & Halzen\": \"royalblue.-.\",\n",
    "    \"1% protons, Ahlers & Halzen\": \"cornflowerblue.-.\",\n",
    "}\n",
    "\n",
    "ara_by_year = [284*ara_100m/366, (217+233)*ara_200m/365, (124*ara_100m+(313+304)*ara_200m)/365,\n",
    "               (345+250)*ara_200m/365, (127*ara_100m+(323+297)*ara_200m)/366, 137*ara_200m/365,\n",
    "               (316*ara_100m+(303+316+313)*ara_200m+186*ara_200mpa)/365,\n",
    "               ara_100m+3*ara_200m+ara_200mpa, ara_100m+3*ara_200m+ara_200mpa, ara_100m+3*ara_200m+ara_200mpa,ara_100m+3*ara_200m+ara_200mpa]\n",
    "\n",
    "neutrino_plots.plot_neutrinos_by_year_ara(fluxes, ara_energies, ara_by_year, styles=styles,\n",
    "                           years=[2012, 2013, 2014, 2015, 2016, 2017, 2018, 2019, 2020, 2021, 2022, 2023],\n",
    "                           stations=[\"ARA 1\", \"ARA 1-3\", \"ARA 1-3\", \"ARA 1-3\", \"ARA 1-3\", \"ARA 1-3\", \"ARA 1-5\"],\n",
    "                           save_name='yearly_neutrinos_ara_fluxes_2019proposal.pdf',xlim=[2012,2023])\n",
    "\n",
    "\n",
    "\n",
    "fluxes = {\n",
    "    \"AGN, Murase\": neutrino_plots.murase_agn_flux,\n",
    "    \"GRB afterglow-late prompt, Murase\": neutrino_plots.murase_grb_late_flux,\n",
    "    \"GRB afterglow-wind, Murase\": neutrino_plots.murase_grb_wind_flux,\n",
    "    \"GRB afterglow-ISM, Murase\": neutrino_plots.murase_grb_ism_flux,\n",
    "    \"Clusters, Fang & Murase\": neutrino_plots.fang_cluster_flux,\n",
    "}\n",
    "\n",
    "styles = {\n",
    "    \"AGN, Murase\": \"red.--\",\n",
    "    \"GRB afterglow-late prompt, Murase\": \"saddlebrown.-.\",\n",
    "    \"GRB afterglow-wind, Murase\": \"goldenrod.-.\",\n",
    "    \"GRB afterglow-ISM, Murase\": \"gold.-.\",\n",
    "    \"Clusters, Fang & Murase\": \"mediumvioletred.&\",\n",
    "}\n",
    "\n",
    "neutrino_plots.plot_neutrinos_by_year_ara(fluxes, ara_energies, ara_by_year, styles=styles,\n",
    "                           years=[2012, 2013, 2014, 2015, 2016, 2017, 2018, 2019, 2020, 2021, 2022, 2023],\n",
    "                           stations=[\"ARA 1\", \"ARA 1-3\", \"ARA 1-3\", \"ARA 1-3\", \"ARA 1-3\", \"ARA 1-3\", \"ARA 1-5\"])#,\n",
    "#                            save_name='yearly_neutrinos_ara_sources_2019proposal.pdf')"
   ]
  },
  {
   "cell_type": "code",
   "execution_count": 2,
   "metadata": {},
   "outputs": [],
   "source": [
    "import pandas as pd\n",
    "import matplotlib.pyplot as plt\n",
    "colnames=[\"energy\", \"flux\",\"n\",\"b\"]\n",
    "witt = pd.read_csv(\"/users/PCON0003/cond0068/ARA/AraRoot/analysis/ARA_analysis/plotting/limits/sensitivities/wittkowski_BFields.txt\",skiprows=range(0, 7),names=colnames,sep=\" \", index_col=False)\n",
    "batista = pd.read_csv(\"/users/PCON0003/cond0068/ARA/AraRoot/analysis/ARA_analysis/plotting/limits/sensitivities/batista18.txt\",skiprows=range(0, 7),names=colnames,sep=\" \", index_col=False)\n",
    "ahlers = pd.read_csv(\"/users/PCON0003/cond0068/ARA/AraRoot/analysis/ARA_analysis/plotting/limits/sensitivities/ahlers_1.txt\",skiprows=range(0, 7),names=colnames,sep=\"\\t\", index_col=False)\n",
    "\n",
    "\n",
    "\n"
   ]
  },
  {
   "cell_type": "code",
   "execution_count": 62,
   "metadata": {},
   "outputs": [
    {
     "data": {
      "image/png": "[encoded data removed]",
      "text/plain": [
       "<Figure size 432x288 with 1 Axes>"
      ]
     },
     "metadata": {},
     "output_type": "display_data"
    }
   ],
   "source": [
    "plt.loglog(witt[\"energy\"], 1E9*witt[\"n\"]/witt[\"energy\"])\n",
    "plt.loglog(batista[\"energy\"], 1E9*batista[\"n\"]/batista[\"energy\"])\n",
    "plt.loglog(ahlers[\"energy\"], 1E9*ahlers[\"flux\"]/ahlers[\"energy\"])\n",
    "plt.ylim(1E-20,1E-14)\n",
    "plt.tight_layout()\n",
    "\n"
   ]
  },
  {
   "cell_type": "code",
   "execution_count": 153,
   "metadata": {},
   "outputs": [
    {
     "name": "stderr",
     "output_type": "stream",
     "text": [
      "/apps/python/3.6-conda5.2/lib/python3.6/site-packages/ipykernel_launcher.py:4: ParserWarning: Falling back to the 'python' engine because the 'c' engine does not support regex separators (separators > 1 char and different from '\\s+' are interpreted as regex); you can avoid this warning by specifying engine='python'.\n",
      "  after removing the cwd from sys.path.\n",
      "/apps/python/3.6-conda5.2/lib/python3.6/site-packages/ipykernel_launcher.py:5: ParserWarning: Falling back to the 'python' engine because the 'c' engine does not support regex separators (separators > 1 char and different from '\\s+' are interpreted as regex); you can avoid this warning by specifying engine='python'.\n",
      "  \"\"\"\n"
     ]
    }
   ],
   "source": [
    "auger_old = pd.read_csv(\"/users/PCON0003/cond0068/ARA/AraRoot/analysis/ARA_analysis/plotting/limits/sensitivities/auger.txt\",skiprows=range(0, 8),names=colnames,sep=\"\\t\", index_col=False)\n",
    "auger_new = pd.read_csv(\"/users/PCON0003/cond0068/ARA/AraRoot/analysis/ARA_analysis/plotting/limits/sensitivities/auger2019.txt\",skiprows=range(0, 10),names=colnames,sep=' ', index_col=False)\n",
    "icecube = pd.read_csv(\"/users/PCON0003/cond0068/ARA/AraRoot/analysis/ARA_analysis/plotting/limits/sensitivities/ice_cube_ehe.txt\",skiprows=range(0, 8),names=colnames,sep='\\t', index_col=False)\n",
    "icecube_auger = pd.read_csv(\"/users/PCON0003/cond0068/ARA/AraRoot/analysis/ARA_analysis/plotting/limits/sensitivities/IceCube_from_Auger.txt\",names=colnames,sep=', ', index_col=False)\n",
    "icecube_paper = pd.read_csv(\"/users/PCON0003/cond0068/ARA/AraRoot/analysis/ARA_analysis/plotting/limits/sensitivities/IceCube_paper.txt\",names=colnames,sep=', ', index_col=False)\n",
    "\n",
    "\n",
    "\n"
   ]
  },
  {
   "cell_type": "code",
   "execution_count": 157,
   "metadata": {},
   "outputs": [
    {
     "data": {
      "text/plain": [
       "(1e-10, 1e-05)"
      ]
     },
     "execution_count": 157,
     "metadata": {},
     "output_type": "execute_result"
    },
    {
     "data": {
      "image/png": "[encoded data removed]",
      "text/plain": [
       "<Figure size 432x288 with 1 Axes>"
      ]
     },
     "metadata": {},
     "output_type": "display_data"
    }
   ],
   "source": [
    "plt.loglog(auger_new[\"energy\"], auger_new[\"n\"], label = \"New\")\n",
    "plt.loglog(auger_old[\"energy\"], auger_old[\"flux\"], label = \"Old\")\n",
    "plt.loglog(icecube[\"energy\"]*1E9, icecube[\"flux\"], label = \"IceCube, what we have\")\n",
    "plt.loglog(icecube_auger[\"energy\"], icecube_auger[\"flux\"], label = \"IceCube from Auger paper\")\n",
    "plt.loglog(icecube_paper[\"energy\"]*1E9, icecube_paper[\"flux\"], \"--\", label = \"IceCube from IceCube paper\")\n",
    "\n",
    "plt.legend()\n",
    "plt.ylim(1E-10, 1E-5)"
   ]
  },
  {
   "cell_type": "code",
   "execution_count": 21,
   "metadata": {},
   "outputs": [
    {
     "name": "stderr",
     "output_type": "stream",
     "text": [
      "/apps/python/3.6-conda5.2/lib/python3.6/site-packages/ipykernel_launcher.py:1: ParserWarning: Falling back to the 'python' engine because the 'c' engine does not support regex separators (separators > 1 char and different from '\\s+' are interpreted as regex); you can avoid this warning by specifying engine='python'.\n",
      "  \"\"\"Entry point for launching an IPython kernel.\n"
     ]
    }
   ],
   "source": [
    "kotera=pd.read_csv(\"/users/PCON0003/cond0068/ARA/AraRoot/analysis/ARA_analysis/plotting/limits/sensitivities/kotera_convert.txt\", names=[\"Energy\",\"Flux\"],sep=\"  \")\n",
    "import numpy as np\n"
   ]
  },
  {
   "cell_type": "code",
   "execution_count": 22,
   "metadata": {},
   "outputs": [],
   "source": [
    "kotera[\"Energy\"]=1E9*10**(kotera[\"Energy\"])"
   ]
  },
  {
   "cell_type": "code",
   "execution_count": 24,
   "metadata": {},
   "outputs": [],
   "source": [
    "kotera.to_csv(\"/users/PCON0003/cond0068/ARA/AraRoot/analysis/ARA_analysis/plotting/limits/sensitivities/kotera_fixed.txt\",index = None, header=True,sep=' ')\n"
   ]
  },
  {
   "cell_type": "code",
   "execution_count": null,
   "metadata": {},
   "outputs": [],
   "source": []
  }
 ],
 "metadata": {
  "kernelspec": {
   "display_name": "Python 3.6 (Conda 5.2) [python/3.6-conda5.2]",
   "language": "python",
   "name": "sys_python36conda"
  },
  "language_info": {
   "codemirror_mode": {
    "name": "ipython",
    "version": 3
   },
   "file_extension": ".py",
   "mimetype": "text/x-python",
   "name": "python",
   "nbconvert_exporter": "python",
   "pygments_lexer": "ipython3",
   "version": "3.6.6"
  }
 },
 "nbformat": 4,
 "nbformat_minor": 2
}
