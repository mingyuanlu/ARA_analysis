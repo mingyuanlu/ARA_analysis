{
 "cells": [
  {
   "cell_type": "code",
   "execution_count": 11,
   "metadata": {},
   "outputs": [],
   "source": [
    "import neutrino_plots\n",
    "from limits_paper import LimitFigure, ara_energies, ara_available, ara_projected, count_neutrinos\n",
    "import numpy as np\n",
    "import matplotlib.pyplot as plt\n",
    "import importlib\n",
    "import limits_paper\n",
    "importlib.reload(limits_paper)\n",
    "\n",
    "ara_energies = np.array([1.00000000e+07, 3.16227766e+07, 1.00000000e+08, 3.16227766e+08, 1.00000000e+09,\n",
    "       3.16227766e+09, 1.00000000e+10, 3.16227766e+10, 1.00000000e+11, 3.16227766e+11, 1.00000000e+12])\n",
    "# eff = np.array([3.03, 2.64, 2.64, 2.45, 2.52, 2.45, 2.47, 2.46, 2.44, 2.46, 2.44])"
   ]
  },
  {
   "cell_type": "code",
   "execution_count": 12,
   "metadata": {},
   "outputs": [],
   "source": [
    "fluxes = {\n",
    "       \"IceCube $E^{-2.19}$ Extrapolated\": lambda e: LimitFigure._i3_nu_fit(e, slope=-2.19, offset=1.01),\n",
    "        \"1% protons, Ahlers & Halzen\": neutrino_plots.ahlers_1_flux,\n",
    "        \"10% protons, Ahlers & Halzen\": neutrino_plots.ahlers_10_flux,\n",
    "        \"100% protons, Ahlers & Halzen\": neutrino_plots.ahlers_100_flux\n",
    "\n",
    "    }\n",
    "\n",
    "styles = {\n",
    "#     \"SFR $E_{max}=10^{21.5}$, Kotera et al.\": \"deeppink.--\",\n",
    "#     \"SFR $E_{max}=10^{20.5}$, Kotera et al.\": \"darkmagenta.--\",\n",
    "#     \"IceCube $E^{-2.19}$ Extrapolated\": \"dodgerblue.-\",\n",
    "}\n",
    "\n"
   ]
  },
  {
   "cell_type": "code",
   "execution_count": 13,
   "metadata": {},
   "outputs": [],
   "source": [
    "veffs = ara_energies"
   ]
  },
  {
   "cell_type": "code",
   "execution_count": 14,
   "metadata": {},
   "outputs": [
    {
     "name": "stdout",
     "output_type": "stream",
     "text": [
      "IceCube $E^{-2.19}$ Extrapolated\n",
      "0.15257490282269015\n",
      "1% protons, Ahlers & Halzen\n",
      "0.017431133859866638\n",
      "10% protons, Ahlers & Halzen\n",
      "0.027167627037615192\n",
      "100% protons, Ahlers & Halzen\n",
      "0.13288061587070774\n"
     ]
    }
   ],
   "source": [
    "for flux in fluxes:\n",
    "#         detections[flux] = [0]\n",
    "#         for i, year in enumerate(years[1:]):\n",
    "            print(flux)\n",
    "            print(sum(count_neutrinos(fluxes[flux], stations=2, years=4)))\n",
    "#             detections[flux].append(np.sum(nus))"
   ]
  },
  {
   "cell_type": "code",
   "execution_count": null,
   "metadata": {},
   "outputs": [],
   "source": []
  },
  {
   "cell_type": "code",
   "execution_count": null,
   "metadata": {},
   "outputs": [],
   "source": []
  }
 ],
 "metadata": {
  "kernelspec": {
   "display_name": "Python 3.6 (Conda 5.2) [python/3.6-conda5.2]",
   "language": "python",
   "name": "sys_python36conda"
  },
  "language_info": {
   "codemirror_mode": {
    "name": "ipython",
    "version": 3
   },
   "file_extension": ".py",
   "mimetype": "text/x-python",
   "name": "python",
   "nbconvert_exporter": "python",
   "pygments_lexer": "ipython3",
   "version": "3.6.6"
  }
 },
 "nbformat": 4,
 "nbformat_minor": 2
}
