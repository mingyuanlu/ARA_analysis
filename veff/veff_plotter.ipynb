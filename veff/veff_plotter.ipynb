{
 "cells": [
  {
   "cell_type": "code",
   "execution_count": 2,
   "metadata": {},
   "outputs": [],
   "source": [
    "import matplotlib.pyplot as plt\n",
    "import pandas as pd\n",
    "import numpy as np"
   ]
  },
  {
   "cell_type": "code",
   "execution_count": 3,
   "metadata": {},
   "outputs": [],
   "source": [
    "colName=[\"Energy\", \"Veff\", \"Err\", \"Nthrown\", \"Npassed\"]\n",
    "Latt_up = pd.read_csv(\"/users/PCON0003/cond0068/ARA/AraSim/veffs/Veff_Latten_up.txt\",names=colName)\n",
    "old = pd.read_csv(\"/users/PCON0003/cond0068/ARA/AraSim/veffs/Veff_std.txt\",names=colName)\n",
    "# pyrex = pd.read_csv(\"/users/PCON0003/cond0068/ARA/AraRoot/analysis/ARA_analysis/veff/pyrex_veff.csv\",names=colName)"
   ]
  },
  {
   "cell_type": "code",
   "execution_count": 4,
   "metadata": {},
   "outputs": [],
   "source": [
    "Latt_up=Latt_up.sort_values(by='Energy')\n",
    "old=old.sort_values(by='Energy')\n",
    "old.to_csv(\"AraSim_veff_proposal.csv\", index=False)\n",
    "old=old.reset_index()\n",
    "Latt_up=Latt_up.reset_index()"
   ]
  },
  {
   "cell_type": "code",
   "execution_count": 5,
   "metadata": {},
   "outputs": [
    {
     "data": {
      "text/html": [
       "<div>\n",
       "<style scoped>\n",
       "    .dataframe tbody tr th:only-of-type {\n",
       "        vertical-align: middle;\n",
       "    }\n",
       "\n",
       "    .dataframe tbody tr th {\n",
       "        vertical-align: top;\n",
       "    }\n",
       "\n",
       "    .dataframe thead th {\n",
       "        text-align: right;\n",
       "    }\n",
       "</style>\n",
       "<table border=\"1\" class=\"dataframe\">\n",
       "  <thead>\n",
       "    <tr style=\"text-align: right;\">\n",
       "      <th></th>\n",
       "      <th>index</th>\n",
       "      <th>Energy</th>\n",
       "      <th>Veff</th>\n",
       "      <th>Err</th>\n",
       "      <th>Nthrown</th>\n",
       "      <th>Npassed</th>\n",
       "    </tr>\n",
       "  </thead>\n",
       "  <tbody>\n",
       "    <tr>\n",
       "      <th>0</th>\n",
       "      <td>1.000000e+16</td>\n",
       "      <td>0.015985</td>\n",
       "      <td>0.002541</td>\n",
       "      <td>2420000</td>\n",
       "      <td>36.29132</td>\n",
       "      <td>1389374.0</td>\n",
       "    </tr>\n",
       "    <tr>\n",
       "      <th>1</th>\n",
       "      <td>3.162278e+16</td>\n",
       "      <td>0.073096</td>\n",
       "      <td>0.005524</td>\n",
       "      <td>2414948</td>\n",
       "      <td>165.60670</td>\n",
       "      <td>1324161.0</td>\n",
       "    </tr>\n",
       "    <tr>\n",
       "      <th>2</th>\n",
       "      <td>1.000000e+17</td>\n",
       "      <td>0.456491</td>\n",
       "      <td>0.013944</td>\n",
       "      <td>2420000</td>\n",
       "      <td>1036.39100</td>\n",
       "      <td>1290903.0</td>\n",
       "    </tr>\n",
       "    <tr>\n",
       "      <th>3</th>\n",
       "      <td>3.162278e+17</td>\n",
       "      <td>4.719121</td>\n",
       "      <td>0.074922</td>\n",
       "      <td>2420000</td>\n",
       "      <td>3857.05200</td>\n",
       "      <td>1262297.0</td>\n",
       "    </tr>\n",
       "    <tr>\n",
       "      <th>4</th>\n",
       "      <td>1.000000e+18</td>\n",
       "      <td>13.266848</td>\n",
       "      <td>0.126196</td>\n",
       "      <td>2413365</td>\n",
       "      <td>10813.59000</td>\n",
       "      <td>1245188.0</td>\n",
       "    </tr>\n",
       "  </tbody>\n",
       "</table>\n",
       "</div>"
      ],
      "text/plain": [
       "          index     Energy      Veff      Err      Nthrown    Npassed\n",
       "0  1.000000e+16   0.015985  0.002541  2420000     36.29132  1389374.0\n",
       "1  3.162278e+16   0.073096  0.005524  2414948    165.60670  1324161.0\n",
       "2  1.000000e+17   0.456491  0.013944  2420000   1036.39100  1290903.0\n",
       "3  3.162278e+17   4.719121  0.074922  2420000   3857.05200  1262297.0\n",
       "4  1.000000e+18  13.266848  0.126196  2413365  10813.59000  1245188.0"
      ]
     },
     "execution_count": 5,
     "metadata": {},
     "output_type": "execute_result"
    }
   ],
   "source": [
    "Latt_up"
   ]
  },
  {
   "cell_type": "code",
   "execution_count": 93,
   "metadata": {},
   "outputs": [
    {
     "data": {
      "image/png": "[encoded data removed]",
      "text/plain": [
       "<matplotlib.figure.Figure at 0x2aeeff667e48>"
      ]
     },
     "metadata": {},
     "output_type": "display_data"
    }
   ],
   "source": [
    "plt.loglog(Latt_up[\"Energy\"], Latt_up[\"Veff\"], label=\"Upper bound\")\n",
    "# plt.plot(old[\"Energy\"], old[\"Veff\"], label=\"Std\")\n",
    "\n",
    "plt.fill_between(Latt_up[\"Energy\"],Latt_up[\"Veff\"]-Latt_up[\"Err\"],Latt_up[\"Veff\"]+Latt_up[\"Err\"], alpha=0.5)\n",
    "# plt.fill_between(old[\"Energy\"],old[\"Veff\"]-old[\"Err\"],old[\"Veff\"]+old[\"Err\"], alpha=0.5)\n",
    "# plt.yscale(\"log\")\n",
    "# plt.xscale(\"log\")\n",
    "plt.xlabel(\"Energy [eV]\",fontsize=13)\n",
    "# plt.title(\"Comparison std & upper bound of L_atten\", fontsize=12)\n",
    "plt.ylabel(\"Veff [km$^3 \\cdot$ sr]\",fontsize=13)\n",
    "plt.grid()\n",
    "plt.legend()\n",
    "plt.show()\n",
    "plt.savefig(\"./veff_comparison.png\", dpi=200)"
   ]
  },
  {
   "cell_type": "markdown",
   "metadata": {},
   "source": [
    "## Histogram"
   ]
  },
  {
   "cell_type": "code",
   "execution_count": 94,
   "metadata": {},
   "outputs": [
    {
     "data": {
      "text/plain": [
       "<matplotlib.figure.Figure at 0x2aeeff19d2e8>"
      ]
     },
     "metadata": {},
     "output_type": "display_data"
    },
    {
     "data": {
      "image/png": "[encoded data removed]",
      "text/plain": [
       "<matplotlib.figure.Figure at 0x2aeeff543470>"
      ]
     },
     "metadata": {},
     "output_type": "display_data"
    }
   ],
   "source": [
    "fig, axes = plt.subplots(nrows=1, ncols=2, figsize=(7, 3))\n",
    "\n",
    "axes[0].scatter(Latt_up[\"Energy\"],Latt_up[\"Npassed\"])\n",
    "axes[0].set_xscale('log')\n",
    "# axes[0].set_yscale('log')\n",
    "axes[0].set_title(\"Number of passing events\")\n",
    "axes[0].set_xlabel(\"Energy [eV]\")\n",
    "\n",
    "\n",
    "axes[1].scatter(Latt_up[\"Energy\"],Latt_up[\"Npassed\"]/Latt_up[\"Nthrown\"])\n",
    "axes[1].set_xscale('log')\n",
    "axes[1].set_title(\"Ratio of passing to thrown events\")\n",
    "axes[1].set_xlabel(\"Energy [eV]\")\n",
    "\n",
    "\n",
    "# axes[1].set_yscale('log')\n",
    "\n",
    "fig.tight_layout()\n",
    "plt.show()\n",
    "fig.savefig(\"./Latten_up_passing.png\", dpi=200)"
   ]
  },
  {
   "cell_type": "code",
   "execution_count": null,
   "metadata": {},
   "outputs": [],
   "source": []
  }
 ],
 "metadata": {
  "kernelspec": {
   "display_name": "Python 3.6 (Conda 5.2) [python/3.6-conda5.2]",
   "language": "python",
   "name": "sys_python36conda"
  },
  "language_info": {
   "codemirror_mode": {
    "name": "ipython",
    "version": 3
   },
   "file_extension": ".py",
   "mimetype": "text/x-python",
   "name": "python",
   "nbconvert_exporter": "python",
   "pygments_lexer": "ipython3",
   "version": "3.6.6"
  }
 },
 "nbformat": 4,
 "nbformat_minor": 2
}
