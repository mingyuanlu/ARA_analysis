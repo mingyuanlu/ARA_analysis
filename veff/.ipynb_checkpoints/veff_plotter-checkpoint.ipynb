{
 "cells": [
  {
   "cell_type": "code",
   "execution_count": 1,
   "metadata": {},
   "outputs": [],
   "source": [
    "import matplotlib.pyplot as plt\n",
    "import pandas as pd\n",
    "import numpy as np"
   ]
  },
  {
   "cell_type": "code",
   "execution_count": 61,
   "metadata": {},
   "outputs": [],
   "source": [
    "colName=[\"Energy\", \"Veff\", \"Err\", \"Nthrown\", \"Npassed\"]\n",
    "Latt_up = pd.read_csv(\"/users/PCON0003/cond0068/ARA/AraSim/veffs/Veff_Latten_up.txt\",names=colName)\n",
    "old = pd.read_csv(\"/users/PCON0003/cond0068/ARA/AraSim/veffs/Veff_std.txt\",names=colName)\n",
    "# pyrex = pd.read_csv(\"/users/PCON0003/cond0068/ARA/AraRoot/analysis/ARA_analysis/veff/pyrex_veff.csv\",names=colName)"
   ]
  },
  {
   "cell_type": "code",
   "execution_count": 62,
   "metadata": {},
   "outputs": [],
   "source": [
    "Latt_up=Latt_up.sort_values(by='Energy')\n",
    "old=old.sort_values(by='Energy')\n",
    "old.to_csv(\"AraSim_veff_proposal.csv\", index=False)\n",
    "old=old.reset_index()\n",
    "Latt_up=Latt_up.reset_index()"
   ]
  },
  {
   "cell_type": "code",
   "execution_count": 63,
   "metadata": {},
   "outputs": [
    {
     "data": {
      "text/html": [
       "<div>\n",
       "<style>\n",
       "    .dataframe thead tr:only-child th {\n",
       "        text-align: right;\n",
       "    }\n",
       "\n",
       "    .dataframe thead th {\n",
       "        text-align: left;\n",
       "    }\n",
       "\n",
       "    .dataframe tbody tr th {\n",
       "        vertical-align: top;\n",
       "    }\n",
       "</style>\n",
       "<table border=\"1\" class=\"dataframe\">\n",
       "  <thead>\n",
       "    <tr style=\"text-align: right;\">\n",
       "      <th></th>\n",
       "      <th>index</th>\n",
       "      <th>Energy</th>\n",
       "      <th>Veff</th>\n",
       "      <th>Err</th>\n",
       "      <th>Nthrown</th>\n",
       "      <th>Npassed</th>\n",
       "    </tr>\n",
       "  </thead>\n",
       "  <tbody>\n",
       "    <tr>\n",
       "      <th>0</th>\n",
       "      <td>1</td>\n",
       "      <td>1.000000e+16</td>\n",
       "      <td>0.015985</td>\n",
       "      <td>0.002541</td>\n",
       "      <td>2420000</td>\n",
       "      <td>11021</td>\n",
       "    </tr>\n",
       "    <tr>\n",
       "      <th>1</th>\n",
       "      <td>0</td>\n",
       "      <td>3.162278e+16</td>\n",
       "      <td>0.073096</td>\n",
       "      <td>0.005524</td>\n",
       "      <td>2414948</td>\n",
       "      <td>11374</td>\n",
       "    </tr>\n",
       "    <tr>\n",
       "      <th>2</th>\n",
       "      <td>2</td>\n",
       "      <td>1.000000e+17</td>\n",
       "      <td>0.456491</td>\n",
       "      <td>0.013944</td>\n",
       "      <td>2420000</td>\n",
       "      <td>13252</td>\n",
       "    </tr>\n",
       "    <tr>\n",
       "      <th>3</th>\n",
       "      <td>3</td>\n",
       "      <td>3.162278e+17</td>\n",
       "      <td>4.719121</td>\n",
       "      <td>0.074922</td>\n",
       "      <td>2420000</td>\n",
       "      <td>20489</td>\n",
       "    </tr>\n",
       "    <tr>\n",
       "      <th>4</th>\n",
       "      <td>4</td>\n",
       "      <td>1.000000e+18</td>\n",
       "      <td>13.266848</td>\n",
       "      <td>0.126196</td>\n",
       "      <td>2413365</td>\n",
       "      <td>38910</td>\n",
       "    </tr>\n",
       "    <tr>\n",
       "      <th>5</th>\n",
       "      <td>6</td>\n",
       "      <td>3.162278e+18</td>\n",
       "      <td>52.414302</td>\n",
       "      <td>0.352195</td>\n",
       "      <td>2400000</td>\n",
       "      <td>69298</td>\n",
       "    </tr>\n",
       "    <tr>\n",
       "      <th>6</th>\n",
       "      <td>5</td>\n",
       "      <td>1.000000e+19</td>\n",
       "      <td>45.692899</td>\n",
       "      <td>0.327255</td>\n",
       "      <td>2420000</td>\n",
       "      <td>61638</td>\n",
       "    </tr>\n",
       "    <tr>\n",
       "      <th>7</th>\n",
       "      <td>8</td>\n",
       "      <td>3.162278e+19</td>\n",
       "      <td>73.087656</td>\n",
       "      <td>0.412920</td>\n",
       "      <td>2420000</td>\n",
       "      <td>93900</td>\n",
       "    </tr>\n",
       "    <tr>\n",
       "      <th>8</th>\n",
       "      <td>10</td>\n",
       "      <td>1.000000e+20</td>\n",
       "      <td>101.932071</td>\n",
       "      <td>0.485759</td>\n",
       "      <td>2420000</td>\n",
       "      <td>128755</td>\n",
       "    </tr>\n",
       "    <tr>\n",
       "      <th>9</th>\n",
       "      <td>7</td>\n",
       "      <td>3.162278e+20</td>\n",
       "      <td>131.695089</td>\n",
       "      <td>0.675549</td>\n",
       "      <td>1600000</td>\n",
       "      <td>114585</td>\n",
       "    </tr>\n",
       "    <tr>\n",
       "      <th>10</th>\n",
       "      <td>9</td>\n",
       "      <td>1.000000e+21</td>\n",
       "      <td>156.385923</td>\n",
       "      <td>0.731599</td>\n",
       "      <td>1600000</td>\n",
       "      <td>138234</td>\n",
       "    </tr>\n",
       "  </tbody>\n",
       "</table>\n",
       "</div>"
      ],
      "text/plain": [
       "    index        Energy        Veff       Err  Nthrown  Npassed\n",
       "0       1  1.000000e+16    0.015985  0.002541  2420000    11021\n",
       "1       0  3.162278e+16    0.073096  0.005524  2414948    11374\n",
       "2       2  1.000000e+17    0.456491  0.013944  2420000    13252\n",
       "3       3  3.162278e+17    4.719121  0.074922  2420000    20489\n",
       "4       4  1.000000e+18   13.266848  0.126196  2413365    38910\n",
       "5       6  3.162278e+18   52.414302  0.352195  2400000    69298\n",
       "6       5  1.000000e+19   45.692899  0.327255  2420000    61638\n",
       "7       8  3.162278e+19   73.087656  0.412920  2420000    93900\n",
       "8      10  1.000000e+20  101.932071  0.485759  2420000   128755\n",
       "9       7  3.162278e+20  131.695089  0.675549  1600000   114585\n",
       "10      9  1.000000e+21  156.385923  0.731599  1600000   138234"
      ]
     },
     "execution_count": 63,
     "metadata": {},
     "output_type": "execute_result"
    }
   ],
   "source": [
    "Latt_up"
   ]
  },
  {
   "cell_type": "code",
   "execution_count": 66,
   "metadata": {},
   "outputs": [
    {
     "data": {
      "image/png": "[encoded data removed]",
      "text/plain": [
       "<matplotlib.figure.Figure at 0x2aeeff8349b0>"
      ]
     },
     "metadata": {},
     "output_type": "display_data"
    }
   ],
   "source": [
    "plt.loglog(Latt_up[\"Energy\"], Latt_up[\"Veff\"], label=\"With\")\n",
    "plt.plot(old[\"Energy\"], old[\"Veff\"], label=\"Without\")\n",
    "\n",
    "plt.fill_between(Latt_up[\"Energy\"],Latt_up[\"Veff\"]-Latt_up[\"Err\"],Latt_up[\"Veff\"]+Latt_up[\"Err\"], alpha=0.5)\n",
    "plt.fill_between(old[\"Energy\"],old[\"Veff\"]-old[\"Err\"],old[\"Veff\"]+old[\"Err\"], alpha=0.5)\n",
    "# plt.yscale(\"log\")\n",
    "# plt.xscale(\"log\")\n",
    "plt.xlabel(\"Energy [eV]\",fontsize=13)\n",
    "plt.title(\"Comparison std & upper bound of L_atten\", fontsize=12)\n",
    "plt.ylabel(\"Veff [km$^3 \\cdot$ sr]\",fontsize=13)\n",
    "plt.grid()\n",
    "# plt.legend()\n",
    "plt.show()\n",
    "plt.savefig(\"./veff_comparison.png\", dpi=200)"
   ]
  },
  {
   "cell_type": "markdown",
   "metadata": {},
   "source": [
    "## Histogram"
   ]
  },
  {
   "cell_type": "code",
   "execution_count": 57,
   "metadata": {},
   "outputs": [
    {
     "data": {
      "image/png": "[encoded data removed]",
      "text/plain": [
       "<matplotlib.figure.Figure at 0x2aeeff294dd8>"
      ]
     },
     "metadata": {},
     "output_type": "display_data"
    }
   ],
   "source": [
    "fig, axes = plt.subplots(nrows=1, ncols=2, figsize=(7, 3))\n",
    "\n",
    "axes[0].scatter(Latt_up[\"Energy\"],Latt_up[\"Npassed\"])\n",
    "axes[0].set_xscale('log')\n",
    "axes[0].set_yscale('log')\n",
    "axes[0].set_title(\"Number of passing events\")\n",
    "axes[0].set_xlabel(\"Energy [eV]\")\n",
    "\n",
    "\n",
    "axes[1].scatter(Latt_up[\"Energy\"],Latt_up[\"Npassed\"]/Latt_up[\"Nthrown\"])\n",
    "axes[1].set_xscale('log')\n",
    "axes[1].set_title(\"Ratio of passing to thrown events\")\n",
    "axes[1].set_xlabel(\"Energy [eV]\")\n",
    "\n",
    "\n",
    "# axes[1].set_yscale('log')\n",
    "\n",
    "fig.tight_layout()\n",
    "plt.show()"
   ]
  },
  {
   "cell_type": "code",
   "execution_count": null,
   "metadata": {},
   "outputs": [],
   "source": []
  }
 ],
 "metadata": {
  "kernelspec": {
   "display_name": "Python 3.6 [python/3.6 ]",
   "language": "python",
   "name": "sys_python36"
  },
  "language_info": {
   "codemirror_mode": {
    "name": "ipython",
    "version": 3
   },
   "file_extension": ".py",
   "mimetype": "text/x-python",
   "name": "python",
   "nbconvert_exporter": "python",
   "pygments_lexer": "ipython3",
   "version": "3.6.3"
  }
 },
 "nbformat": 4,
 "nbformat_minor": 2
}
