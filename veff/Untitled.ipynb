{
 "cells": [
  {
   "cell_type": "code",
   "execution_count": 52,
   "metadata": {},
   "outputs": [],
   "source": [
    "import matplotlib.pyplot as plt\n",
    "import pandas as pd\n",
    "import numpy as np"
   ]
  },
  {
   "cell_type": "code",
   "execution_count": 62,
   "metadata": {},
   "outputs": [],
   "source": [
    "colName=[\"Energy\", \"Veff\", \"Err\"]\n",
    "# new = pd.read_csv(\"/users/PCON0003/cond0068/ARA/AraRoot/analysis/ARA_analysis/veff/ARA.txt\",names=colName)\n",
    "old = pd.read_csv(\"./AraSim_veff_proposal.csv\")\n",
    "pyrex = pd.read_csv(\"/users/PCON0003/cond0068/ARA/AraRoot/analysis/ARA_analysis/veff/pyrex_veff.csv\",names=colName)"
   ]
  },
  {
   "cell_type": "code",
   "execution_count": 63,
   "metadata": {},
   "outputs": [],
   "source": [
    "# new=new.sort_values(by='Energy')\n",
    "# old=old.sort_values(by='Energy')\n",
    "pyrex[\"Energy\"]=pyrex[\"Energy\"].astype(str).astype(float)\n",
    "# old.to_csv(\"AraSim_veff_proposal.csv\", index=False)"
   ]
  },
  {
   "cell_type": "code",
   "execution_count": 64,
   "metadata": {
    "scrolled": true
   },
   "outputs": [
    {
     "data": {
      "text/plain": [
       "<matplotlib.legend.Legend at 0x2ad39638ae80>"
      ]
     },
     "execution_count": 64,
     "metadata": {},
     "output_type": "execute_result"
    },
    {
     "data": {
      "image/png": "[encoded data removed]",
      "text/plain": [
       "<Figure size 432x288 with 1 Axes>"
      ]
     },
     "metadata": {},
     "output_type": "display_data"
    }
   ],
   "source": [
    "plt.loglog(old[\"Energy\"], old[\"Veff\"], label=\"AraSim\")\n",
    "plt.fill_between(old[\"Energy\"],old[\"Veff\"]-old[\"Err\"],old[\"Veff\"]+old[\"Err\"], alpha=0.3)\n",
    "plt.fill_between(pyrex[\"Energy\"],pyrex[\"Veff\"]-pyrex[\"Err\"],pyrex[\"Veff\"]+pyrex[\"Err\"], alpha=0.3)\n",
    "\n",
    "plt.plot(pyrex[\"Energy\"], pyrex[\"Veff\"], label=\"PyREx\")\n",
    "# plt.yscale(\"log\")\n",
    "# plt.xscale(\"log\")\n",
    "plt.xlabel(\"Energy [eV]\",fontsize=13)\n",
    "# plt.title(\"Latest comparison between AraSim/PyREx (Nov 2019)\", fontsize=12)\n",
    "plt.ylabel(\"Veff [km$^3 \\cdot$ sr]\",fontsize=13)\n",
    "plt.legend()\n",
    "# plt.gca().set_aspect('equal', adjustable='box')\n",
    "\n",
    "# plt.savefig(\"/users/PCON0003/cond0068/ARA/veff_comparison.png\", dpi=200)"
   ]
  },
  {
   "cell_type": "code",
   "execution_count": 67,
   "metadata": {},
   "outputs": [
    {
     "data": {
      "image/png": "[encoded data removed]",
      "text/plain": [
       "<Figure size 432x288 with 1 Axes>"
      ]
     },
     "metadata": {},
     "output_type": "display_data"
    }
   ],
   "source": [
    "plt.plot(old[\"Energy\"],pyrex[\"Veff\"]/old[\"Veff\"])\n",
    "plt.xscale('log')"
   ]
  },
  {
   "cell_type": "code",
   "execution_count": 68,
   "metadata": {},
   "outputs": [
    {
     "name": "stdout",
     "output_type": "stream",
     "text": [
      "0     1.853935\n",
      "1     1.426338\n",
      "2     1.231167\n",
      "3     1.088942\n",
      "4     1.103670\n",
      "5     1.007549\n",
      "6     0.997285\n",
      "7     1.000000\n",
      "8     1.000000\n",
      "9     1.000000\n",
      "10    1.000000\n",
      "Name: Veff, dtype: float64\n"
     ]
    }
   ],
   "source": [
    "print(pyrex[\"Veff\"]/old[\"Veff\"])"
   ]
  },
  {
   "cell_type": "code",
   "execution_count": 75,
   "metadata": {},
   "outputs": [
    {
     "ename": "TypeError",
     "evalue": "cannot convert the series to <class 'float'>",
     "output_type": "error",
     "traceback": [
      "\u001b[0;31m---------------------------------------------------------------------------\u001b[0m",
      "\u001b[0;31mTypeError\u001b[0m                                 Traceback (most recent call last)",
      "\u001b[0;32m<ipython-input-75-acbaf9531975>\u001b[0m in \u001b[0;36m<module>\u001b[0;34m()\u001b[0m\n\u001b[0;32m----> 1\u001b[0;31m \u001b[0mprint\u001b[0m\u001b[0;34m(\u001b[0m\u001b[0;34m\"%0.2f\"\u001b[0m\u001b[0;34m%\u001b[0m\u001b[0mfloat\u001b[0m\u001b[0;34m(\u001b[0m\u001b[0mpyrex\u001b[0m\u001b[0;34m[\u001b[0m\u001b[0;34m\"Veff\"\u001b[0m\u001b[0;34m]\u001b[0m\u001b[0;34m)\u001b[0m\u001b[0;34m)\u001b[0m\u001b[0;34m\u001b[0m\u001b[0m\n\u001b[0m",
      "\u001b[0;32m/apps/python/3.6-conda5.2/lib/python3.6/site-packages/pandas/core/series.py\u001b[0m in \u001b[0;36mwrapper\u001b[0;34m(self)\u001b[0m\n\u001b[1;32m    116\u001b[0m             \u001b[0;32mreturn\u001b[0m \u001b[0mconverter\u001b[0m\u001b[0;34m(\u001b[0m\u001b[0mself\u001b[0m\u001b[0;34m.\u001b[0m\u001b[0miloc\u001b[0m\u001b[0;34m[\u001b[0m\u001b[0;36m0\u001b[0m\u001b[0;34m]\u001b[0m\u001b[0;34m)\u001b[0m\u001b[0;34m\u001b[0m\u001b[0m\n\u001b[1;32m    117\u001b[0m         raise TypeError(\"cannot convert the series to \"\n\u001b[0;32m--> 118\u001b[0;31m                         \"{0}\".format(str(converter)))\n\u001b[0m\u001b[1;32m    119\u001b[0m \u001b[0;34m\u001b[0m\u001b[0m\n\u001b[1;32m    120\u001b[0m     \u001b[0;32mreturn\u001b[0m \u001b[0mwrapper\u001b[0m\u001b[0;34m\u001b[0m\u001b[0m\n",
      "\u001b[0;31mTypeError\u001b[0m: cannot convert the series to <class 'float'>"
     ]
    }
   ],
   "source": [
    "print(\"%0.2f\"%float(pyrex[\"Veff\"]))"
   ]
  },
  {
   "cell_type": "code",
   "execution_count": 80,
   "metadata": {},
   "outputs": [
    {
     "data": {
      "text/plain": [
       "0      0.007753\n",
       "1      0.068721\n",
       "2      0.423534\n",
       "3      1.646366\n",
       "4      5.110919\n",
       "5     11.060770\n",
       "6     20.530880\n",
       "7     34.070899\n",
       "8     51.321619\n",
       "9     70.347430\n",
       "10    91.046383\n",
       "Name: Veff, dtype: float64"
      ]
     },
     "execution_count": 80,
     "metadata": {},
     "output_type": "execute_result"
    }
   ],
   "source": [
    "pyrex[\"Veff\"].astype(float)"
   ]
  },
  {
   "cell_type": "code",
   "execution_count": null,
   "metadata": {},
   "outputs": [],
   "source": []
  }
 ],
 "metadata": {
  "kernelspec": {
   "display_name": "Python 3.6 (Conda 5.2) [python/3.6-conda5.2]",
   "language": "python",
   "name": "sys_python36conda"
  },
  "language_info": {
   "codemirror_mode": {
    "name": "ipython",
    "version": 3
   },
   "file_extension": ".py",
   "mimetype": "text/x-python",
   "name": "python",
   "nbconvert_exporter": "python",
   "pygments_lexer": "ipython3",
   "version": "3.6.6"
  }
 },
 "nbformat": 4,
 "nbformat_minor": 2
}
