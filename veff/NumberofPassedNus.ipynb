{
 "cells": [
  {
   "cell_type": "code",
   "execution_count": null,
   "metadata": {},
   "outputs": [],
   "source": [
    "import sys\n",
    "sys.path.append(\"/users/PAS0654/osu8354/root6_18_build/lib\") # go to parent dir\n",
    "sys.path.append(\"/users/PCON0003/cond0068/.local/lib/python2.7/site-packages\")\n",
    "import uproot\n",
    "import ROOT\n",
    "import math\n",
    "import numpy as np\n",
    "from ROOT import TH1D,TF1, gRandom, gPad, gStyle\n",
    "import matplotlib.pyplot as plt\n",
    "from ROOT import TChain, TSelector, TTree\n",
    "import os"
   ]
  },
  {
   "cell_type": "code",
   "execution_count": null,
   "metadata": {},
   "outputs": [],
   "source": [
    "# ROOT.gInterpreter.Declare('#include \"/users/PAS0654/osu8354/AraSim/Report.h\"')\n",
    "# ROOT.gInterpreter.Declare('#include \"/users/PAS0654/osu8354/AraSim/Position.h\"')\n",
    "\n",
    "# ROOT.gSystem.Load(\"/users/PAS0654/osu8354/root6_18_build/lib/libGraf.so\")\n",
    "# ROOT.gSystem.Load(\"/users/PAS0654/osu8354/root6_18_build/lib/libGraf3d.so\")\n",
    "# ROOT.gSystem.Load(\"/users/PAS0654/osu8354/root6_18_build/lib/libTreePlayer.so\")\n",
    "# ROOT.gSystem.Load(\"/users/PAS0654/osu8354/root6_18_build/lib/libPostscript.so\")\n",
    "# ROOT.gSystem.Load(\"/users/PAS0654/osu8354/root6_18_build/lib/libPhysics.so\")\n",
    "# ROOT.gSystem.Load(\"/users/PAS0654/osu8354/root6_18_build/lib/libROOTDataFrame.so\")\n",
    "# ROOT.gSystem.Load(\"/users/PAS0654/osu8354/root6_18_build/lib/libMinuit.so\")\n",
    "# ROOT.gSystem.Load(\"/users/PAS0654/osu8354/root6_18_build/lib/libMathMore.so\")\n",
    "# ROOT.gSystem.Load(\"/users/PAS0654/osu8354/root6_18_build/lib/libSpectrum.so\")\n",
    "\n",
    "# ROOT.gSystem.Load(\"/users/PAS0654/osu8354/AraSim/libAra.so\")\n",
    "# c = ROOT.Position()\n",
    "# c2 = ROOT.Report()\n"
   ]
  },
  {
   "cell_type": "code",
   "execution_count": null,
   "metadata": {},
   "outputs": [],
   "source": [
    "file_list=[]#Define an empty list\n",
    "for filename in os.listdir(\"/fs/scratch/PAS0654/jorge/sim_results/Latten_up\"):#Loop over desired directory\n",
    "    if filename.startswith(\"AraOut.Latten_up_A2_c1_E580.txt\"): #extension, .root in this case\n",
    "        file_list.append(os.path.join(\"/fs/scratch/PAS0654/jorge/sim_results/Latten_up\", str(filename))) #add file name to the list"
   ]
  },
  {
   "cell_type": "code",
   "execution_count": null,
   "metadata": {},
   "outputs": [],
   "source": [
    "chain = TChain(\"AraTree2\") #Define chain and tree that needs to be read. \"RecoVals\" in this case.\n",
    "for line in file_list:\n",
    "    chain.AddFile(line) #Add files to chain"
   ]
  },
  {
   "cell_type": "code",
   "execution_count": null,
   "metadata": {},
   "outputs": [],
   "source": [
    "f = ROOT.TFile.Open(\"/fs/scratch/PAS0654/jorge/sim_results/Latten_up/AraOut.Latten_up_A2_c1_E560.txt.run100.root\")"
   ]
  },
  {
   "cell_type": "code",
   "execution_count": null,
   "metadata": {},
   "outputs": [],
   "source": [
    "tree1 = ROOT.gROOT.FindObject(\"AraTree2\")\n",
    "for entry in tree1:\n",
    "                 print(entry.stations[0].size())"
   ]
  },
  {
   "cell_type": "code",
   "execution_count": null,
   "metadata": {},
   "outputs": [],
   "source": [
    "entry.stations"
   ]
  },
  {
   "cell_type": "code",
   "execution_count": null,
   "metadata": {},
   "outputs": [],
   "source": []
  }
 ],
 "metadata": {
  "kernelspec": {
   "display_name": "Python 3.6 (Conda 5.2) [python/3.6-conda5.2]",
   "language": "python",
   "name": "sys_python36conda"
  },
  "language_info": {
   "codemirror_mode": {
    "name": "ipython",
    "version": 3
   },
   "file_extension": ".py",
   "mimetype": "text/x-python",
   "name": "python",
   "nbconvert_exporter": "python",
   "pygments_lexer": "ipython3",
   "version": "3.6.6"
  }
 },
 "nbformat": 4,
 "nbformat_minor": 2
}
